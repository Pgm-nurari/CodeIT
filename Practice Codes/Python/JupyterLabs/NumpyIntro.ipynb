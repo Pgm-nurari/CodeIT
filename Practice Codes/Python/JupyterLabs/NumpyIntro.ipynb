{
 "cells": [
  {
   "cell_type": "code",
   "execution_count": 2,
   "id": "8dc1626e-ec73-4573-91c3-729eab5ee47c",
   "metadata": {
    "tags": []
   },
   "outputs": [],
   "source": [
    "import numpy as np"
   ]
  },
  {
   "cell_type": "code",
   "execution_count": null,
   "id": "803c7fcd-3493-4803-9a06-1296f26bdd84",
   "metadata": {},
   "outputs": [],
   "source": [
    "l=list(map(int,input(\"Enter the elements for the array: \").split()))\n",
    "arr1 = np.ndarray(l)\n",
    "print(f\" Your array is: {arr1}\")"
   ]
  },
  {
   "cell_type": "markdown",
   "id": "337d17e3-6950-44f8-94b6-6ad9ba7b8a7e",
   "metadata": {},
   "source": [
    "Using array() function to create the array"
   ]
  },
  {
   "cell_type": "code",
   "execution_count": null,
   "id": "f98a8b2a-7fa7-4fe3-9c8b-57374be5c62a",
   "metadata": {
    "tags": []
   },
   "outputs": [],
   "source": [
    "l=list(map(int,input(\"Enter the elements for the array: \").split()))\n",
    "arr1 = np.array(l)\n",
    "print(f\" Your array is: {arr1}\")"
   ]
  }
 ],
 "metadata": {
  "kernelspec": {
   "display_name": "Python 3 (ipykernel)",
   "language": "python",
   "name": "python3"
  },
  "language_info": {
   "codemirror_mode": {
    "name": "ipython",
    "version": 3
   },
   "file_extension": ".py",
   "mimetype": "text/x-python",
   "name": "python",
   "nbconvert_exporter": "python",
   "pygments_lexer": "ipython3",
   "version": "3.11.4"
  }
 },
 "nbformat": 4,
 "nbformat_minor": 5
}
