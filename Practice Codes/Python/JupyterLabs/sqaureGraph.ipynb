{
 "cells": [
  {
   "cell_type": "markdown",
   "id": "f4df12a7-56a2-4237-ae3a-27adcf3d3950",
   "metadata": {},
   "source": [
    "Plotting a graph of number and their squares."
   ]
  },
  {
   "cell_type": "code",
   "execution_count": null,
   "id": "f1dbc04d-5fe4-4540-b9c6-773f3a4a6e35",
   "metadata": {
    "tags": []
   },
   "outputs": [],
   "source": [
    "import numpy as np\n",
    "import matplotlib.pyplot as plt"
   ]
  },
  {
   "cell_type": "code",
   "execution_count": 23,
   "id": "75699403-5121-4c07-bc6f-f512b4f821a3",
   "metadata": {
    "tags": []
   },
   "outputs": [
    {
     "ename": "SyntaxError",
     "evalue": "invalid syntax (3692066167.py, line 1)",
     "output_type": "error",
     "traceback": [
      "\u001b[1;36m  Cell \u001b[1;32mIn[23], line 1\u001b[1;36m\u001b[0m\n\u001b[1;33m    num = np.array([i for i in range(1,int(input(\"Enter the limit: \"))+1),50])\u001b[0m\n\u001b[1;37m                                                                         ^\u001b[0m\n\u001b[1;31mSyntaxError\u001b[0m\u001b[1;31m:\u001b[0m invalid syntax\n"
     ]
    }
   ],
   "source": [
    "num = np.array([i for i in range(1,int(input(\"Enter the limit: \"))+1)])\n",
    "squares = np.square(num)\n",
    "\n",
    "plt.title(\"Square Graph\")\n",
    "plt.xlabel(\"Number\")\n",
    "plt.ylabel(\"Square\")\n",
    "plt.grid('true')\n",
    "plt.plot(num,squares)\n",
    "plt.show()"
   ]
  },
  {
   "cell_type": "code",
   "execution_count": null,
   "id": "47746dd2-335c-4351-aa0f-eacccd6f525d",
   "metadata": {},
   "outputs": [],
   "source": []
  }
 ],
 "metadata": {
  "kernelspec": {
   "display_name": "Python 3 (ipykernel)",
   "language": "python",
   "name": "python3"
  },
  "language_info": {
   "codemirror_mode": {
    "name": "ipython",
    "version": 3
   },
   "file_extension": ".py",
   "mimetype": "text/x-python",
   "name": "python",
   "nbconvert_exporter": "python",
   "pygments_lexer": "ipython3",
   "version": "3.11.4"
  }
 },
 "nbformat": 4,
 "nbformat_minor": 5
}
