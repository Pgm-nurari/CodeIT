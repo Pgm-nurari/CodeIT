{
 "cells": [
  {
   "cell_type": "code",
   "execution_count": null,
   "metadata": {},
   "outputs": [],
   "source": [
    "import re"
   ]
  },
  {
   "cell_type": "code",
   "execution_count": null,
   "metadata": {},
   "outputs": [],
   "source": [
    "# Normal String \n",
    "string = 'Hello\\nmy\\nname\\nis\\nSabhyam'\n",
    "print(f\"This is a normal string: \\n{string}\")"
   ]
  },
  {
   "cell_type": "code",
   "execution_count": null,
   "metadata": {},
   "outputs": [],
   "source": [
    "# Raw strings in python\n",
    "string = r'Hello\\nmy\\nname\\nis\\nSabhyam'\n",
    "print(f\"Raw string in Python be like: \\n{string}\")"
   ]
  }
 ],
 "metadata": {
  "kernelspec": {
   "display_name": "IEDC",
   "language": "python",
   "name": "python3"
  },
  "language_info": {
   "codemirror_mode": {
    "name": "ipython",
    "version": 3
   },
   "file_extension": ".py",
   "mimetype": "text/x-python",
   "name": "python",
   "nbconvert_exporter": "python",
   "pygments_lexer": "ipython3",
   "version": "3.11.4"
  }
 },
 "nbformat": 4,
 "nbformat_minor": 2
}
