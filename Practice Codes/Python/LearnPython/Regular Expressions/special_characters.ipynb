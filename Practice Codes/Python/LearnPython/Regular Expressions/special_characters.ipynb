{
 "cells": [
  {
   "cell_type": "code",
   "execution_count": 4,
   "metadata": {},
   "outputs": [],
   "source": [
    "import re"
   ]
  },
  {
   "cell_type": "code",
   "execution_count": 2,
   "metadata": {},
   "outputs": [],
   "source": [
    "text = '''\n",
    "Report on Introduction to Stock Market\n",
    "The workshop event, \"Introduction to Stock Market,\" was organized on October 12, 2023, by the Trivandrum-based IEDC at CET. The event aimed to provide valuable insights into the world of stock market investments and was led by the knowledgeable speaker, Shafeeq Muhammed.\n",
    "Event Details:\n",
    "Speaker: Shafeeq Muhammed\n",
    "Venue: CGPU Hall, CET Trivandrum\n",
    "Time: 10:00 am\n",
    "Event Summary:\n",
    "The event was well-attended by individuals eager to learn about stock market investments. Shafeeq Muhammed addressed several crucial topics, highlighting key objectives during the workshop. The event spanned a specific duration, featuring various activities.\n",
    "Introduction to Stock Market:\n",
    "1.Investments and Company Shares: Shafeeq Muhammed emphasized the importance of investments in company shares, which serve as a vital component of the stock market.\n",
    "2.Warren Buffet: The event presumably touched upon the investment strategies and principles followed by renowned investors like Warren Buffett.\n",
    "3.Investment Strategy: Attendees learned that successful stock market investments require a proper analysis of a company's growth potential. Shafeeq Muhammed advised participants to invest in companies that promise better growth and an optimistic investment future. He also emphasized the concept of diversification, where even if one company faces bankruptcy, the shareholder's overall portfolio remains relatively stable.\n",
    "Wanna Make 1 Crore:\n",
    "1.SIP Calculator: The workshop possibly discussed the concept of a SIP (Systematic Investment Plan) calculator as a means to achieve financial goals.\n",
    "2.Saving Strategy: Shafeeq Muhammed may have suggested that saving a small amount, such as Rs. 40 per day, can lead to accumulating 1 crore in a year.\n",
    "Mutual Funds:\n",
    "The event introduced participants to the world of mutual funds, offering insights into this investment vehicle:\n",
    "1.Selecting Mutual Funds: Attendees were guided to select mutual funds with an annual growth rate of 12% through platforms like Groww or Coin-Zerodha.\n",
    "2.Increasing Investment: Shafeeq Muhammed may have advised increasing investments by 10% per year to benefit from compounding returns.\n",
    "Risks and Management:\n",
    "1.Investment Sources: Shafeeq Muhammed urged participants never to invest with money borrowed from personal or any kind of loans as they are liabilities, not assets. He emphasized the importance of using savings, which represent a form of asset, to purchase more assets.\n",
    "2.Diversification: The speaker suggested investing in multiple companies simultaneously. This strategy ensures that even if one company faces losses, the profits from others can offset those losses.\n",
    "3.Sector Diversification: Attendees were encouraged to diversify their investments across various sectors and to invest in the leading company within each sector.\n",
    "Websites to Explore:\n",
    "Morningstar\n",
    "Screener\n",
    "YouTube: The speaker recommended watching the YouTube channel \"Penny Stock Shafiq SMK\" with specific reference to a video titled \"13:43.\"\n",
    "Conclusion\n",
    "In conclusion, the \"Introduction to Stock Market\" workshop, led by Shafeeq Muhammed, proved to be an informative and insightful event for all those keen to understand the world of stock market investments. Attendees gained valuable knowledge about investment strategies, risk management, and tools to achieve financial goals. Shafeeq Muhammed's expertise and guidance left a lasting impact on the eager participants, setting them on a path towards more informed and strategic investing.\n",
    "\n",
    "This workshop not only emphasized the significance of diversification and intelligent investment choices but also provided practical tips and resources, such as the SIP calculator and online platforms for mutual fund investments. The event successfully demystified the complexities of the stock market, making it more accessible to a broader audience seeking to secure their financial future.\n",
    "\n",
    "\n",
    "Sabhyam Mishra,\n",
    "CTO, IEDC, Amrita School of Computing, Amrita Vishwa Vidyapeetham - Kochi Campus\n",
    "12 - 10 - 2023\n",
    "'''"
   ]
  },
  {
   "cell_type": "code",
   "execution_count": null,
   "metadata": {},
   "outputs": [],
   "source": [
    "pattern = r'IEDC'\n",
    "matches = re.finditer(pattern,text)\n",
    "for match in matches:\n",
    "    print(match)"
   ]
  },
  {
   "cell_type": "code",
   "execution_count": null,
   "metadata": {},
   "outputs": [],
   "source": [
    "pattern = r'SMK'\n",
    "matches = re.finditer(pattern,text)\n",
    "for match in matches:\n",
    "    print(match)"
   ]
  },
  {
   "cell_type": "code",
   "execution_count": null,
   "metadata": {},
   "outputs": [],
   "source": [
    "pattern = r'[A-Z]a'\n",
    "matches = re.finditer(pattern,text)\n",
    "for match in matches:\n",
    "    print(match)"
   ]
  },
  {
   "cell_type": "code",
   "execution_count": null,
   "metadata": {},
   "outputs": [],
   "source": [
    "pattern = r'[A-Z]..C'\n",
    "matches = re.finditer(pattern,text)\n",
    "for match in matches:\n",
    "    print(match)"
   ]
  },
  {
   "cell_type": "code",
   "execution_count": null,
   "metadata": {},
   "outputs": [],
   "source": [
    "pattern = r'[A-Z]..e'\n",
    "matches = re.finditer(pattern,text)\n",
    "for match in matches:\n",
    "    print(match)"
   ]
  }
 ],
 "metadata": {
  "kernelspec": {
   "display_name": "base",
   "language": "python",
   "name": "python3"
  },
  "language_info": {
   "codemirror_mode": {
    "name": "ipython",
    "version": 3
   },
   "file_extension": ".py",
   "mimetype": "text/x-python",
   "name": "python",
   "nbconvert_exporter": "python",
   "pygments_lexer": "ipython3",
   "version": "3.11.4"
  }
 },
 "nbformat": 4,
 "nbformat_minor": 2
}
