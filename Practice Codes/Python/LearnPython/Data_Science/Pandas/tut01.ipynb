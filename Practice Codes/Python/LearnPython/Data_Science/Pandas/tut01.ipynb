{
 "cells": [
  {
   "cell_type": "code",
   "execution_count": 1,
   "id": "99678fee",
   "metadata": {},
   "outputs": [
    {
     "name": "stdout",
     "output_type": "stream",
     "text": [
      "\n",
      "____________:Table Data:____________\n",
      "\n",
      "                     Name  Language  Power Levels\n",
      "Speed              Sarabh  Hinglish          1101\n",
      "Ancient Warrior  Shivkaal  Manipuri         10001\n",
      "Nture                Maya     Mindi          5002\n",
      "RedX                RedEx  Excarian          7002\n"
     ]
    }
   ],
   "source": [
    "import pandas as pd\n",
    "\n",
    "tab1 = {\n",
    "    'Name':['Sarabh','Shivkaal','Maya','RedEx'],\n",
    "    'Language':['Hinglish','Manipuri','Mindi','Excarian'],\n",
    "    'Power Levels':[1101,10001,5002,7002]\n",
    "}\n",
    "\n",
    "dataFrame = pd.DataFrame(data=tab1,index=['Speed','Ancient Warrior','Nture','RedX'])\n",
    "print(\"\\n____________:Table Data:____________\\n\")\n",
    "print(dataFrame)"
   ]
  },
  {
   "cell_type": "code",
   "execution_count": 2,
   "id": "ebdca9c6",
   "metadata": {},
   "outputs": [
    {
     "name": "stdout",
     "output_type": "stream",
     "text": [
      "\n",
      "To get only names and the power-levels:\n",
      "\n",
      "                     Name  Power Levels\n",
      "Speed              Sarabh          1101\n",
      "Ancient Warrior  Shivkaal         10001\n",
      "Nture                Maya          5002\n",
      "RedX                RedEx          7002\n"
     ]
    }
   ],
   "source": [
    "print(\"\\nTo get only names and the power-levels:\\n\")\n",
    "print(dataFrame[['Name','Power Levels']])"
   ]
  },
  {
   "cell_type": "code",
   "execution_count": 3,
   "id": "1a907d8c",
   "metadata": {},
   "outputs": [
    {
     "name": "stdout",
     "output_type": "stream",
     "text": [
      "\n",
      "To get details of ony Shivkaal and Maya:\n",
      "\n",
      "        Name  Language  Power Levels\n",
      "Nture   Maya     Mindi          5002\n",
      "RedX   RedEx  Excarian          7002\n"
     ]
    }
   ],
   "source": [
    "print(\"\\nTo get details of ony Shivkaal and Maya:\\n\")\n",
    "print(dataFrame.iloc[[2,3]])"
   ]
  },
  {
   "cell_type": "code",
   "execution_count": 4,
   "id": "71099b41",
   "metadata": {},
   "outputs": [
    {
     "name": "stdout",
     "output_type": "stream",
     "text": [
      "\n",
      " To add a new column: Power Type\n",
      "\n",
      "New Table is: \n",
      "                     Name  Language  Power Levels            Power Type\n",
      "Speed              Sarabh  Hinglish          1101                 Quirk\n",
      "Ancient Warrior  Shivkaal  Manipuri         10001                Siddhi\n",
      "Nture                Maya     Mindi          5002    Elemental Affinity\n",
      "RedX                RedEx  Excarian          7002  Genetics and XStones\n"
     ]
    }
   ],
   "source": [
    "print(\"\\n To add a new column: Power Type\")\n",
    "dataFrame['Power Type']=['Quirk','Siddhi','Elemental Affinity','Genetics and XStones']\n",
    "print(f\"\\nNew Table is: \\n{dataFrame}\")"
   ]
  },
  {
   "cell_type": "code",
   "execution_count": 5,
   "id": "7d6c8091",
   "metadata": {},
   "outputs": [
    {
     "name": "stdout",
     "output_type": "stream",
     "text": [
      "\n",
      " To add a new row: Ronnie\n",
      "\n",
      "Updated table is:\n",
      "        Name  Language  Power Levels            Power Type\n",
      "0    Sarabh  Hinglish          1101                 Quirk\n",
      "1  Shivkaal  Manipuri         10001                Siddhi\n",
      "2      Maya     Mindi          5002    Elemental Affinity\n",
      "3     RedEx  Excarian          7002  Genetics and XStones\n",
      "4  Ronnie T     Mindi          7800            Technology\n"
     ]
    }
   ],
   "source": [
    "print(\"\\n To add a new row: Ronnie\")\n",
    "dataFrame = dataFrame._append({'Name':'Ronnie T','Language':'Mindi','Power Levels':7800,'Power Type':'Technology'}, ignore_index=True)\n",
    "print(f\"\\nUpdated table is:\\n {dataFrame}\")"
   ]
  },
  {
   "cell_type": "code",
   "execution_count": 6,
   "id": "80aacbe5",
   "metadata": {},
   "outputs": [
    {
     "name": "stdout",
     "output_type": "stream",
     "text": [
      "\n",
      "Pop a column: \n",
      "\n",
      "0                   Quirk\n",
      "1                  Siddhi\n",
      "2      Elemental Affinity\n",
      "3    Genetics and XStones\n",
      "4              Technology\n",
      "Name: Power Type, dtype: object\n"
     ]
    }
   ],
   "source": [
    "print(\"\\nPop a column: \\n\")\n",
    "print(dataFrame.pop('Power Type'))"
   ]
  },
  {
   "cell_type": "code",
   "execution_count": 7,
   "id": "8f0ab6d6",
   "metadata": {},
   "outputs": [
    {
     "name": "stdout",
     "output_type": "stream",
     "text": [
      "\n",
      "Delete a row: \n",
      "\n",
      "       Name  Language  Power Levels\n",
      "0    Sarabh  Hinglish          1101\n",
      "1  Shivkaal  Manipuri         10001\n",
      "2      Maya     Mindi          5002\n",
      "3     RedEx  Excarian          7002\n"
     ]
    }
   ],
   "source": [
    "print(\"\\nDelete a row: \\n\")\n",
    "print(dataFrame.drop([4]))"
   ]
  }
 ],
 "metadata": {
  "kernelspec": {
   "display_name": "mlenv",
   "language": "python",
   "name": "python3"
  },
  "language_info": {
   "codemirror_mode": {
    "name": "ipython",
    "version": 3
   },
   "file_extension": ".py",
   "mimetype": "text/x-python",
   "name": "python",
   "nbconvert_exporter": "python",
   "pygments_lexer": "ipython3",
   "version": "3.10.11"
  }
 },
 "nbformat": 4,
 "nbformat_minor": 5
}
