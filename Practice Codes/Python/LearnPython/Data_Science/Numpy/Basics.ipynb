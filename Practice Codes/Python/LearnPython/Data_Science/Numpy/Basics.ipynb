{
 "cells": [
  {
   "cell_type": "code",
   "execution_count": 1,
   "metadata": {},
   "outputs": [
    {
     "name": "stdout",
     "output_type": "stream",
     "text": [
      "[1 2 3]\n",
      "[[1 2 3 4]\n",
      " [5 6 7 8]]\n",
      "[[12.   34.   54.   56.  ]\n",
      " [ 1.2  34.45  4.65  7.89]]\n"
     ]
    }
   ],
   "source": [
    "import numpy as np\n",
    "a = np.array([1,2,3])\n",
    "print(a)\n",
    "b = np.array([[1,2,3,4],[5,6,7,8]])\n",
    "print(b)\n",
    "b2 = np.array([[12,34,54,56],[1.2,34.45,4.65,7.89]])\n",
    "print(b2)"
   ]
  },
  {
   "cell_type": "code",
   "execution_count": 2,
   "metadata": {},
   "outputs": [
    {
     "name": "stdout",
     "output_type": "stream",
     "text": [
      "Dimension of a is: 1\n"
     ]
    }
   ],
   "source": [
    "# Get Dimension\n",
    "print(f\"Dimension of a is: {a.ndim}\")"
   ]
  },
  {
   "cell_type": "code",
   "execution_count": 3,
   "metadata": {},
   "outputs": [
    {
     "name": "stdout",
     "output_type": "stream",
     "text": [
      "Dimension of a is: 2\n"
     ]
    }
   ],
   "source": [
    "# Get Dimension\n",
    "print(f\"Dimension of a is: {b.ndim}\")"
   ]
  },
  {
   "cell_type": "code",
   "execution_count": 4,
   "metadata": {},
   "outputs": [
    {
     "name": "stdout",
     "output_type": "stream",
     "text": [
      "Shape of a is: (3,)\n",
      "Shape of a is: (2, 4)\n"
     ]
    }
   ],
   "source": [
    "# Get Shape of the array...\n",
    "print(f\"Shape of a is: {a.shape}\")\n",
    "print(f\"Shape of a is: {b.shape}\")"
   ]
  },
  {
   "cell_type": "code",
   "execution_count": 5,
   "metadata": {},
   "outputs": [
    {
     "data": {
      "text/plain": [
       "dtype('int64')"
      ]
     },
     "execution_count": 5,
     "metadata": {},
     "output_type": "execute_result"
    }
   ],
   "source": [
    "# Get Type: \n",
    "a.dtype"
   ]
  },
  {
   "cell_type": "code",
   "execution_count": 6,
   "metadata": {},
   "outputs": [],
   "source": [
    "a = np.array([1,2,3],dtype = 'int8')\n"
   ]
  },
  {
   "cell_type": "code",
   "execution_count": 7,
   "metadata": {},
   "outputs": [
    {
     "data": {
      "text/plain": [
       "dtype('int8')"
      ]
     },
     "execution_count": 7,
     "metadata": {},
     "output_type": "execute_result"
    }
   ],
   "source": [
    "# Get Type: \n",
    "a.dtype"
   ]
  },
  {
   "cell_type": "code",
   "execution_count": 8,
   "metadata": {},
   "outputs": [
    {
     "data": {
      "text/plain": [
       "1"
      ]
     },
     "execution_count": 8,
     "metadata": {},
     "output_type": "execute_result"
    }
   ],
   "source": [
    "# Get Size: \n",
    "a.itemsize"
   ]
  },
  {
   "cell_type": "code",
   "execution_count": 9,
   "metadata": {},
   "outputs": [],
   "source": [
    "a = np.array([1,2,3],dtype = 'int32')"
   ]
  },
  {
   "cell_type": "code",
   "execution_count": 10,
   "metadata": {},
   "outputs": [
    {
     "data": {
      "text/plain": [
       "4"
      ]
     },
     "execution_count": 10,
     "metadata": {},
     "output_type": "execute_result"
    }
   ],
   "source": [
    "a.itemsize"
   ]
  },
  {
   "cell_type": "code",
   "execution_count": 11,
   "metadata": {},
   "outputs": [
    {
     "name": "stdout",
     "output_type": "stream",
     "text": [
      "Size/Item_count of array a: 3\n",
      "Size of items: 4\n",
      "Total size of the array is: 12\n",
      "Size is: 12\n"
     ]
    }
   ],
   "source": [
    "'''\n",
    "itemsize: Gives the size of individual element in the array\n",
    "size    : Gives the size of the array itself \n",
    "Therefore total size will be arr.itemsize*arr.size\n",
    "nbytes: Gives the product of the above 2\n",
    "'''\n",
    "size = a.itemsize * a.size\n",
    "print(f\"Size/Item_count of array a: {a.size}\\nSize of items: {a.itemsize}\\nTotal size of the array is: {size}\")\n",
    "print(f\"Size is: {a.nbytes}\")"
   ]
  }
 ],
 "metadata": {
  "kernelspec": {
   "display_name": "mlenv",
   "language": "python",
   "name": "python3"
  },
  "language_info": {
   "codemirror_mode": {
    "name": "ipython",
    "version": 3
   },
   "file_extension": ".py",
   "mimetype": "text/x-python",
   "name": "python",
   "nbconvert_exporter": "python",
   "pygments_lexer": "ipython3",
   "version": "3.10.11"
  },
  "orig_nbformat": 4
 },
 "nbformat": 4,
 "nbformat_minor": 2
}
