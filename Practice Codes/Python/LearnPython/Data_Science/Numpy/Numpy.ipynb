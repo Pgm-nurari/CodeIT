{
 "cells": [
  {
   "cell_type": "markdown",
   "id": "8cebc2f3",
   "metadata": {},
   "source": [
    "# Numpy Basic Operations"
   ]
  },
  {
   "cell_type": "markdown",
   "id": "134cd9ae",
   "metadata": {},
   "source": [
    "## Creating multi dimensional Arrays"
   ]
  },
  {
   "cell_type": "code",
   "execution_count": 2,
   "id": "a9a18a00",
   "metadata": {},
   "outputs": [],
   "source": [
    "import numpy as np"
   ]
  },
  {
   "cell_type": "code",
   "execution_count": null,
   "id": "64753d92",
   "metadata": {},
   "outputs": [],
   "source": [
    "arr1 = np.array([[i for i in range(1,11,2)],[i for i in range(2,11,2)]])\n",
    "print(arr1)"
   ]
  },
  {
   "cell_type": "code",
   "execution_count": 3,
   "id": "bfa831be",
   "metadata": {},
   "outputs": [
    {
     "name": "stdout",
     "output_type": "stream",
     "text": [
      "[[ 1.+0.j  3.+0.j  5.+0.j  7.+0.j  9.+0.j]\n",
      " [ 2.+0.j  4.+0.j  6.+0.j  8.+0.j 10.+0.j]]\n"
     ]
    }
   ],
   "source": [
    "c = np.array([[i for i in range(1,11,2)],[i for i in range(2,11,2)]],dtype = complex)\n",
    "print(c)"
   ]
  },
  {
   "cell_type": "code",
   "execution_count": null,
   "id": "b1d75108",
   "metadata": {},
   "outputs": [],
   "source": [
    "arr2 = np.reshape(arr1,(5,2))\n",
    "print(arr2)"
   ]
  },
  {
   "cell_type": "code",
   "execution_count": null,
   "id": "49e5af6f",
   "metadata": {},
   "outputs": [],
   "source": [
    "arr2 = np.transpose(arr1)\n",
    "print(arr2)"
   ]
  },
  {
   "cell_type": "code",
   "execution_count": null,
   "id": "e3c8717a",
   "metadata": {},
   "outputs": [],
   "source": [
    "print(arr1.dtype,arr2.dtype,c.dtype)"
   ]
  },
  {
   "cell_type": "code",
   "execution_count": null,
   "id": "4a908750",
   "metadata": {},
   "outputs": [],
   "source": [
    "zero_arr = np.zeros((3,3))\n",
    "ones_arr = np.ones((3,3),dtype = np.int16)\n",
    "random = np.empty((3,3))\n",
    "print(zero_arr,ones_arr,random,sep = \"\\n\")"
   ]
  },
  {
   "cell_type": "code",
   "execution_count": null,
   "id": "144215ab",
   "metadata": {},
   "outputs": [],
   "source": [
    "# Array with same elements\n",
    "e = np.full((2,2),7)\n",
    "print(e)"
   ]
  },
  {
   "cell_type": "code",
   "execution_count": null,
   "id": "a7b80b54",
   "metadata": {},
   "outputs": [],
   "source": [
    "# Array identity matrix\n",
    "print(np.eye(3))"
   ]
  },
  {
   "cell_type": "code",
   "execution_count": null,
   "id": "7e77a7bd",
   "metadata": {},
   "outputs": [],
   "source": [
    "# arange()\n",
    "b_arr = np.arange(1,11,1)\n",
    "print(b_arr)"
   ]
  },
  {
   "cell_type": "code",
   "execution_count": null,
   "id": "ebc4f298",
   "metadata": {},
   "outputs": [],
   "source": [
    "# linspace()\n",
    "print(np.linspace(0.2,9,10)) # (start, end, no. of elements)"
   ]
  },
  {
   "cell_type": "code",
   "execution_count": null,
   "id": "6a52beff",
   "metadata": {},
   "outputs": [],
   "source": [
    "from numpy import pi\n",
    "print(np.sin(np.linspace(0,2*pi,100)))"
   ]
  },
  {
   "cell_type": "markdown",
   "id": "f63d3673",
   "metadata": {},
   "source": [
    "##                            Basic Operations"
   ]
  },
  {
   "cell_type": "code",
   "execution_count": null,
   "id": "0a0e9c17",
   "metadata": {},
   "outputs": [],
   "source": [
    "# Product of two matrix \n",
    "A = np.array([[1,2,3],[4,5,6],[7,8,9]])\n",
    "B = np.array([[1,2,3],[4,5,6],[7,8,9]])\n",
    "print(f\"Element wise multiplication\\nA*B\\n{A*B}\")\n",
    "print(f\"Matrix multiplication\\nA@B\\n{A@B}\")\n",
    "print(f\"Matrix multiplication using dot() function:\\n{A.dot(B)}\")"
   ]
  },
  {
   "cell_type": "markdown",
   "id": "f71d19ba",
   "metadata": {},
   "source": [
    "## Aggregate Functions"
   ]
  },
  {
   "cell_type": "code",
   "execution_count": 9,
   "id": "1299f4b6",
   "metadata": {},
   "outputs": [
    {
     "name": "stdout",
     "output_type": "stream",
     "text": [
      "[[1 2 3]\n",
      " [4 5 6]\n",
      " [7 8 9]]\n",
      "45\n",
      "45\n"
     ]
    }
   ],
   "source": [
    "b = np.arange(1,10,1).reshape((3,3))\n",
    "print(b)\n",
    "print(b.sum())\n",
    "print(np.sum(b))"
   ]
  },
  {
   "cell_type": "code",
   "execution_count": 7,
   "id": "3b44cacd",
   "metadata": {},
   "outputs": [
    {
     "name": "stdout",
     "output_type": "stream",
     "text": [
      "[7 8 9]\n",
      "[3 6 9]\n"
     ]
    }
   ],
   "source": [
    "print(b.max(axis = 0))\n",
    "print(b.max(axis = 1))"
   ]
  },
  {
   "cell_type": "markdown",
   "id": "5d41235d",
   "metadata": {},
   "source": [
    "## Copying Array"
   ]
  },
  {
   "cell_type": "code",
   "execution_count": null,
   "id": "343e8992",
   "metadata": {},
   "outputs": [],
   "source": [
    "a = np.arange(1,10,2)\n",
    "h=a.view()\n",
    "print(h)\n",
    "a = a*2\n",
    "print(h)"
   ]
  },
  {
   "cell_type": "code",
   "execution_count": null,
   "id": "4a4922dd",
   "metadata": {},
   "outputs": [],
   "source": [
    "a = np.arange(1,10,2)\n",
    "h=a.copy()\n",
    "print(h)\n",
    "a = a*2\n",
    "print(h)"
   ]
  },
  {
   "cell_type": "markdown",
   "id": "e7e2d22c",
   "metadata": {},
   "source": [
    "## Changing Array Shape\n"
   ]
  },
  {
   "cell_type": "code",
   "execution_count": null,
   "id": "e2aca064",
   "metadata": {},
   "outputs": [],
   "source": [
    "s = np.array([[1,2,3],[4,5,6]],dtype = float)\n",
    "print(s)"
   ]
  }
 ],
 "metadata": {
  "kernelspec": {
   "display_name": "mlenv",
   "language": "python",
   "name": "python3"
  },
  "language_info": {
   "codemirror_mode": {
    "name": "ipython",
    "version": 3
   },
   "file_extension": ".py",
   "mimetype": "text/x-python",
   "name": "python",
   "nbconvert_exporter": "python",
   "pygments_lexer": "ipython3",
   "version": "3.10.11"
  }
 },
 "nbformat": 4,
 "nbformat_minor": 5
}
